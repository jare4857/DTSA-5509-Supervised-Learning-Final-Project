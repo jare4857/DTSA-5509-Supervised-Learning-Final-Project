{
 "cells": [
  {
   "attachments": {},
   "cell_type": "markdown",
   "metadata": {},
   "source": [
    "# Imports\n"
   ]
  },
  {
   "cell_type": "code",
   "execution_count": 1,
   "metadata": {},
   "outputs": [],
   "source": [
    "# library required in the task for Supervised Learning models\n",
    "import recordlinkage\n",
    "\n",
    "# data processing\n",
    "import numpy as np\n",
    "import pandas as pd\n",
    "from sklearn.model_selection import train_test_split\n",
    "\n",
    "# for visualizations\n",
    "import matplotlib.pyplot as plt\n",
    "import seaborn as sns"
   ]
  },
  {
   "attachments": {},
   "cell_type": "markdown",
   "metadata": {},
   "source": [
    "The Task:\n",
    "\n",
    "This task comes from an orginization I have with a company and is intended to reduce their manual data validation workload. The task is to create a method of identify potential matches between two of their databases. One is an operational database while the other is a billing database. What constitutes a match is when the piece of equipment from the operational database is for the same piece of equipment from the billing database. \n",
    "\n",
    "Due to privacy considerations, the data I have used for all of my analysis in this workbook comes from a public Kaggle database with similar relevant features. \n",
    "\n",
    "Objective:\n",
    "To create, train, and tune a set of different models to determine which kind of supervised learning is best suited for determining whether a pair of locations are a \"match\" (referring to the same place) or not.\n",
    "\n",
    "\n",
    "Requirements:\n",
    "- use of recordlinkage package\n",
    "\n",
    "\n",
    "The Data:\n",
    "\n",
    "This dataset is a set of pairs of two different data sets for different locations such as gyms, restaurants, and bars. Each location has 12 attributes from an ID, name, address, etc. The data is known to have noise, errors, and generally unkept prior to any analysis or cleaning done here.\n",
    "\n",
    "[Data Source](https://www.kaggle.com/datasets/robikscube/foursquare-location-matching-parquet)\n",
    "\n",
    "**The data is also provided in the gitub*"
   ]
  },
  {
   "cell_type": "code",
   "execution_count": 2,
   "metadata": {},
   "outputs": [],
   "source": [
    "# df_train = pd.read_parquet('data/train.parquet', engine=\"fastparquet\")\n",
    "df_pairs = pd.read_parquet('data/pairs.parquet', engine=\"fastparquet\")"
   ]
  },
  {
   "attachments": {},
   "cell_type": "markdown",
   "metadata": {},
   "source": [
    "# EDA"
   ]
  },
  {
   "cell_type": "code",
   "execution_count": 3,
   "metadata": {},
   "outputs": [
    {
     "name": "stdout",
     "output_type": "stream",
     "text": [
      "<class 'pandas.core.frame.DataFrame'>\n",
      "RangeIndex: 578907 entries, 0 to 578906\n",
      "Data columns (total 25 columns):\n",
      " #   Column        Non-Null Count   Dtype  \n",
      "---  ------        --------------   -----  \n",
      " 0   id_1          578907 non-null  object \n",
      " 1   name_1        578907 non-null  object \n",
      " 2   latitude_1    578907 non-null  float64\n",
      " 3   longitude_1   578907 non-null  float64\n",
      " 4   address_1     475383 non-null  object \n",
      " 5   city_1        512928 non-null  object \n",
      " 6   state_1       452316 non-null  object \n",
      " 7   zip_1         359509 non-null  object \n",
      " 8   country_1     578899 non-null  object \n",
      " 9   url_1         231806 non-null  object \n",
      " 10  phone_1       270022 non-null  object \n",
      " 11  categories_1  562613 non-null  object \n",
      " 12  id_2          578907 non-null  object \n",
      " 13  name_2        578907 non-null  object \n",
      " 14  latitude_2    578907 non-null  float64\n",
      " 15  longitude_2   578907 non-null  float64\n",
      " 16  address_2     312497 non-null  object \n",
      " 17  city_2        367490 non-null  object \n",
      " 18  state_2       309689 non-null  object \n",
      " 19  zip_2         224827 non-null  object \n",
      " 20  country_2     578901 non-null  object \n",
      " 21  url_2         84850 non-null   object \n",
      " 22  phone_2       118963 non-null  object \n",
      " 23  categories_2  502931 non-null  object \n",
      " 24  match         578907 non-null  bool   \n",
      "dtypes: bool(1), float64(4), object(20)\n",
      "memory usage: 106.6+ MB\n"
     ]
    }
   ],
   "source": [
    "df_pairs.info()"
   ]
  },
  {
   "cell_type": "code",
   "execution_count": 4,
   "metadata": {},
   "outputs": [
    {
     "data": {
      "text/plain": [
       "Index(['id_1', 'name_1', 'latitude_1', 'longitude_1', 'address_1', 'city_1',\n",
       "       'state_1', 'zip_1', 'country_1', 'url_1', 'phone_1', 'categories_1',\n",
       "       'id_2', 'name_2', 'latitude_2', 'longitude_2', 'address_2', 'city_2',\n",
       "       'state_2', 'zip_2', 'country_2', 'url_2', 'phone_2', 'categories_2',\n",
       "       'match'],\n",
       "      dtype='object')"
      ]
     },
     "execution_count": 4,
     "metadata": {},
     "output_type": "execute_result"
    }
   ],
   "source": [
    "# this is the data set with pairs of known true/false matched\n",
    "df_pairs.columns"
   ]
  },
  {
   "cell_type": "code",
   "execution_count": 5,
   "metadata": {},
   "outputs": [
    {
     "name": "stdout",
     "output_type": "stream",
     "text": [
      "id_1\n",
      "E_74ba66c8496334    348\n",
      "E_b6ceee199e8056    198\n",
      "E_ac5beaeebfa250    165\n",
      "E_62cd73485781f1    144\n",
      "E_04a6de32cff9d7    133\n",
      "                   ... \n",
      "E_5a3cef402e6bb6      1\n",
      "E_5a3cbc1c7be495      1\n",
      "E_5a3c9a41aad6b4      1\n",
      "E_5a3c82ea4dbd8c      1\n",
      "E_ffffe6f4652fbb      1\n",
      "Name: id_1, Length: 464765, dtype: int64\n",
      "name_1\n",
      "Starbucks                    3871\n",
      "McDonald's                   2985\n",
      "Redbox                       1436\n",
      "KFC                          1338\n",
      "7-Eleven                     1059\n",
      "                             ... \n",
      "Federale Politie Oostende       1\n",
      "Vecio Fritolin                  1\n",
      "Jesse's Room                    1\n",
      "U Lohmühlenstraße               1\n",
      "Waihi Beach                     1\n",
      "Name: name_1, Length: 369287, dtype: int64\n",
      "latitude_1\n",
      " 38.415602    857\n",
      "-6.125748     348\n",
      " 53.872799    198\n",
      "-6.834269     165\n",
      " 41.041172    144\n",
      "             ... \n",
      " 14.672601      1\n",
      " 40.093193      1\n",
      " 36.372353      1\n",
      " 39.907265      1\n",
      "-37.417042      1\n",
      "Name: latitude_1, Length: 462374, dtype: int64\n",
      "longitude_1\n",
      "-95.925751     878\n",
      " 106.656475    348\n",
      " 30.374124     198\n",
      " 107.663355    165\n",
      " 29.027612     144\n",
      "              ... \n",
      " 51.444061       1\n",
      "-86.844879       1\n",
      " 27.495321       1\n",
      "-114.312924      1\n",
      " 175.950466      1\n",
      "Name: longitude_1, Length: 453361, dtype: int64\n",
      "address_1\n",
      "Jalan Raya Bandara       350\n",
      "Terminal 1               220\n",
      "CGK Airport              191\n",
      "Marmara Denizi           174\n",
      "Universitas Brawijaya    166\n",
      "                        ... \n",
      "1697 Broadway Ste 502      1\n",
      "Depan Mega M               1\n",
      "1430 Hertel Ave            1\n",
      "2600 Lewis Seifert Rd      1\n",
      "上野6-13-6                   1\n",
      "Name: address_1, Length: 321612, dtype: int64\n",
      "city_1\n",
      "Москва               8143\n",
      "Singapore            7931\n",
      "Bandung              7539\n",
      "Санкт-Петербург      5378\n",
      "İstanbul             4254\n",
      "                     ... \n",
      "香川郡                     1\n",
      "Llandrindod Wells       1\n",
      "Bucksport               1\n",
      "Manquin                 1\n",
      "Waihi Beach             1\n",
      "Name: city_1, Length: 46458, dtype: int64\n",
      "state_1\n",
      "CA                14285\n",
      "Bangkok           10740\n",
      "DKI Jakarta       10576\n",
      "NY                10222\n",
      "Türkiye            9709\n",
      "                  ...  \n",
      "Bodmin                1\n",
      "Halkali               1\n",
      "Cph                   1\n",
      "Río de Janeiro        1\n",
      "Miri                  1\n",
      "Name: state_1, Length: 11232, dtype: int64\n",
      "zip_1\n",
      "9000        1315\n",
      "10330       1272\n",
      "10110       1194\n",
      "10400       1168\n",
      "80361       1090\n",
      "            ... \n",
      "116044         1\n",
      "793 51         1\n",
      "989-0247       1\n",
      "00270          1\n",
      "NN11 3BA       1\n",
      "Name: zip_1, Length: 70134, dtype: int64\n",
      "country_1\n",
      "US    117793\n",
      "ID     68412\n",
      "TR     61497\n",
      "JP     34217\n",
      "TH     31591\n",
      "       ...  \n",
      "YT         1\n",
      "PW         1\n",
      "DJ         1\n",
      "SH         1\n",
      "EH         1\n",
      "Name: country_1, Length: 213, dtype: int64\n",
      "url_1\n",
      "http://www.7eleven.co.th                                                                             782\n",
      "http://www.payless.com/                                                                              713\n",
      "http://www.21cineplex.com                                                                            637\n",
      "http://www.mcdonalds.co.id                                                                           561\n",
      "http://soekarnohatta-airport.co.id                                                                   539\n",
      "                                                                                                    ... \n",
      "http://www.eeksken.be                                                                                  1\n",
      "http://www.redbox.com/locations/utah/lehi/84043/5514                                                   1\n",
      "https://advisor.morganstanley.com/chuck.jones?y_source=1_MTA4Mjc1NzQtNDQwLWxvY2F0aW9uLndlYnNpdGU=      1\n",
      "http://www.posadareal-hotels.com/loscabos/                                                             1\n",
      "https://www.cricketwireless.com/stores/ll/US/TN/Nashville/825C-Murfreesboro-Pike                       1\n",
      "Name: url_1, Length: 121713, dtype: int64\n",
      "phone_1\n",
      "8667332693        1153\n",
      "215507300          348\n",
      "+18002758777       335\n",
      "+18667332693       272\n",
      "+4922120199959     189\n",
      "                  ... \n",
      "+5785131047          1\n",
      "+81359139038         1\n",
      "322367101            1\n",
      "+81927216940         1\n",
      "338362989            1\n",
      "Name: phone_1, Length: 193358, dtype: int64\n",
      "categories_1\n",
      "Shopping Malls                                    11606\n",
      "Residential Buildings (Apartments / Condos)       11122\n",
      "Banks                                             10296\n",
      "Hotels                                            10232\n",
      "Coffee Shops                                       8744\n",
      "                                                  ...  \n",
      "Bookstores, Food Courts                               1\n",
      "Historic Sites, Antique Shops                         1\n",
      "Private Schools, Trade Schools, High Schools          1\n",
      "Chocolate Shops, Pastry Shops, Delis / Bodegas        1\n",
      "Scenic Lookouts, Lakes, Other Great Outdoors          1\n",
      "Name: categories_1, Length: 41403, dtype: int64\n",
      "id_2\n",
      "E_59223061bee71c    23\n",
      "E_e6c87c8676f87a    20\n",
      "E_8bbedcffebf032    19\n",
      "E_f46b8796cce7e9    18\n",
      "E_7034f1828295d0    17\n",
      "                    ..\n",
      "E_f7fb9f95d87180     1\n",
      "E_f8281c19d592ce     1\n",
      "E_98fd488978b6df     1\n",
      "E_3094200eef7850     1\n",
      "E_1ae7caf33377c7     1\n",
      "Name: id_2, Length: 565512, dtype: int64\n",
      "name_2\n",
      "Starbucks                          2734\n",
      "Redbox                             1448\n",
      "McDonald's                         1334\n",
      "Subway                              993\n",
      "Payless ShoeSource                  987\n",
      "                                   ... \n",
      "Senseg HQ                             1\n",
      "de grot                               1\n",
      "Copperopolis Medical Clinic           1\n",
      "Instituto Tecnologico de Celaya       1\n",
      "Waihi Beach                           1\n",
      "Name: name_2, Length: 466779, dtype: int64\n",
      "latitude_2\n",
      " 38.415602    857\n",
      " 39.779379     45\n",
      " 44.480641     33\n",
      "-6.914744      29\n",
      " 38.748285     25\n",
      "             ... \n",
      " 44.712013      1\n",
      " 30.183974      1\n",
      "-12.100264      1\n",
      " 41.004974      1\n",
      "-37.405986      1\n",
      "Name: latitude_2, Length: 560634, dtype: int64\n",
      "longitude_2\n",
      "-95.925751     878\n",
      "-75.555298      45\n",
      "-73.196685      34\n",
      " 107.609811     29\n",
      " 30.548825      26\n",
      "              ... \n",
      " 112.762391      1\n",
      " 100.952416      1\n",
      " 27.209601       1\n",
      " 27.221240       1\n",
      " 175.939559      1\n",
      "Name: longitude_2, Length: 550222, dtype: int64\n",
      "address_2\n",
      "日本                                                  172\n",
      "Terminal 1                                          104\n",
      "Sunway Pyramid                                       85\n",
      "Jakarta                                              84\n",
      "The Mall Bangkapi                                    81\n",
      "                                                   ... \n",
      "松本町4町目6                                               1\n",
      "Barsha                                                1\n",
      "Nine Hatun Mah.İnönü Cad.No:19/A Dörtyol Esenler      1\n",
      "Store Kongensgade                                     1\n",
      "825C Murfreesboro Pike                                1\n",
      "Name: address_2, Length: 259112, dtype: int64\n",
      "city_2\n",
      "Singapore           5222\n",
      "Bandung             4464\n",
      "New York            4060\n",
      "Москва              3765\n",
      "İstanbul            2891\n",
      "                    ... \n",
      "Ukay Perdana           1\n",
      "Rockton, IL, US        1\n",
      "Tambon Huai Yang       1\n",
      "Everett, MA, US        1\n",
      "Lurago d'Erba          1\n",
      "Name: city_2, Length: 46967, dtype: int64\n",
      "state_2\n",
      "CA                     13525\n",
      "NY                     10072\n",
      "FL                      8333\n",
      "TX                      8072\n",
      "東京都                     6148\n",
      "                       ...  \n",
      "Lanús Oeste                1\n",
      "55500                      1\n",
      "iç Anadolu                 1\n",
      "U.S. Virgin Islands        1\n",
      "Miri                       1\n",
      "Name: state_2, Length: 12029, dtype: int64\n",
      "zip_2\n",
      "9000         731\n",
      "10330        606\n",
      "10110        518\n",
      "10400        501\n",
      "2000         468\n",
      "            ... \n",
      "26210-180      1\n",
      "701-0203       1\n",
      "w2             1\n",
      "04631          1\n",
      "6991 JE        1\n",
      "Name: zip_2, Length: 57711, dtype: int64\n",
      "country_2\n",
      "US    117779\n",
      "ID     68598\n",
      "TR     61511\n",
      "JP     34184\n",
      "TH     31579\n",
      "       ...  \n",
      "GQ         1\n",
      "SH         1\n",
      "PW         1\n",
      "SJ         1\n",
      "EH         1\n",
      "Name: country_2, Length: 217, dtype: int64\n",
      "url_2\n",
      "http://www.redbox.com                                                                                557\n",
      "https://www.sej.co.jp                                                                                281\n",
      "http://www.7eleven.co.th                                                                             226\n",
      "https://www.dunkindonuts.com                                                                         209\n",
      "https://www.family.co.jp                                                                             201\n",
      "                                                                                                    ... \n",
      "http://www.zingueriasannicolas.com                                                                     1\n",
      "https://mirra.pt                                                                                       1\n",
      "http://www.roniabc.hu                                                                                  1\n",
      "http://printservicesmilwaukee.com                                                                      1\n",
      "https://www.walgreens.com/locator/walgreens-917+chesterfield+pkwy+e-chesterfield-mo-63017/id=7185      1\n",
      "Name: url_2, Length: 56214, dtype: int64\n",
      "phone_2\n",
      "+18667332693      690\n",
      "8667332693        473\n",
      "+498002000015     194\n",
      "+4922120199959    188\n",
      "+18002758777      162\n",
      "                 ... \n",
      "+94112677550        1\n",
      "800800800           1\n",
      "1142536100          1\n",
      "+12399451664        1\n",
      "+16156799940        1\n",
      "Name: phone_2, Length: 105583, dtype: int64\n",
      "categories_2\n",
      "Residential Buildings (Apartments / Condos)    11604\n",
      "College Classrooms                             10719\n",
      "Banks                                          10542\n",
      "Cafés                                          10257\n",
      "Coffee Shops                                    8977\n",
      "                                               ...  \n",
      "Construction & Landscaping, Pools                  1\n",
      "Playgrounds, Dog Runs, Tracks                      1\n",
      "Veneto Restaurants                                 1\n",
      "College Classrooms, Campgrounds                    1\n",
      "Halal Restaurants, Comfort Food Restaurants        1\n",
      "Name: categories_2, Length: 19561, dtype: int64\n",
      "match\n",
      "True     398786\n",
      "False    180121\n",
      "Name: match, dtype: int64\n"
     ]
    }
   ],
   "source": [
    "for c in df_pairs.columns:\n",
    "    print(c)\n",
    "    print(df_pairs[c].value_counts())\n"
   ]
  },
  {
   "cell_type": "code",
   "execution_count": 6,
   "metadata": {},
   "outputs": [
    {
     "data": {
      "text/plain": [
       "<AxesSubplot:>"
      ]
     },
     "execution_count": 6,
     "metadata": {},
     "output_type": "execute_result"
    },
    {
     "name": "stderr",
     "output_type": "stream",
     "text": [
      "C:\\Users\\jacob\\AppData\\Roaming\\Python\\Python39\\site-packages\\IPython\\core\\pylabtools.py:152: UserWarning: Glyph 3648 (\\N{THAI CHARACTER SARA E}) missing from current font.\n",
      "  fig.canvas.print_figure(bytes_io, **kw)\n",
      "C:\\Users\\jacob\\AppData\\Roaming\\Python\\Python39\\site-packages\\IPython\\core\\pylabtools.py:152: UserWarning: Glyph 3595 (\\N{THAI CHARACTER SO SO}) missing from current font.\n",
      "  fig.canvas.print_figure(bytes_io, **kw)\n",
      "C:\\Users\\jacob\\AppData\\Roaming\\Python\\Python39\\site-packages\\IPython\\core\\pylabtools.py:152: UserWarning: Glyph 3623 (\\N{THAI CHARACTER WO WAEN}) missing from current font.\n",
      "  fig.canvas.print_figure(bytes_io, **kw)\n",
      "C:\\Users\\jacob\\AppData\\Roaming\\Python\\Python39\\site-packages\\IPython\\core\\pylabtools.py:152: UserWarning: Glyph 3656 (\\N{THAI CHARACTER MAI EK}) missing from current font.\n",
      "  fig.canvas.print_figure(bytes_io, **kw)\n",
      "C:\\Users\\jacob\\AppData\\Roaming\\Python\\Python39\\site-packages\\IPython\\core\\pylabtools.py:152: UserWarning: Glyph 3609 (\\N{THAI CHARACTER NO NU}) missing from current font.\n",
      "  fig.canvas.print_figure(bytes_io, **kw)\n",
      "C:\\Users\\jacob\\AppData\\Roaming\\Python\\Python39\\site-packages\\IPython\\core\\pylabtools.py:152: UserWarning: Glyph 3629 (\\N{THAI CHARACTER O ANG}) missing from current font.\n",
      "  fig.canvas.print_figure(bytes_io, **kw)\n",
      "C:\\Users\\jacob\\AppData\\Roaming\\Python\\Python39\\site-packages\\IPython\\core\\pylabtools.py:152: UserWarning: Glyph 3637 (\\N{THAI CHARACTER SARA II}) missing from current font.\n",
      "  fig.canvas.print_figure(bytes_io, **kw)\n",
      "C:\\Users\\jacob\\AppData\\Roaming\\Python\\Python39\\site-packages\\IPython\\core\\pylabtools.py:152: UserWarning: Glyph 3621 (\\N{THAI CHARACTER LO LING}) missing from current font.\n",
      "  fig.canvas.print_figure(bytes_io, **kw)\n",
      "C:\\Users\\jacob\\AppData\\Roaming\\Python\\Python39\\site-packages\\IPython\\core\\pylabtools.py:152: UserWarning: Glyph 3615 (\\N{THAI CHARACTER FO FAN}) missing from current font.\n",
      "  fig.canvas.print_figure(bytes_io, **kw)\n"
     ]
    },
    {
     "data": {
      "image/png": "[encoded data removed]",
      "text/plain": [
       "<Figure size 640x480 with 1 Axes>"
      ]
     },
     "metadata": {},
     "output_type": "display_data"
    }
   ],
   "source": [
    "df_pairs['name_1'].value_counts()[:10].plot(kind='barh')"
   ]
  },
  {
   "attachments": {},
   "cell_type": "markdown",
   "metadata": {},
   "source": [
    "This is where I discovered some data cleaning needs related to strange characters and data inside parenthesis."
   ]
  },
  {
   "cell_type": "code",
   "execution_count": 7,
   "metadata": {},
   "outputs": [
    {
     "data": {
      "text/plain": [
       "<AxesSubplot:>"
      ]
     },
     "execution_count": 7,
     "metadata": {},
     "output_type": "execute_result"
    },
    {
     "data": {
      "image/png": "[encoded data removed]",
      "text/plain": [
       "<Figure size 640x480 with 1 Axes>"
      ]
     },
     "metadata": {},
     "output_type": "display_data"
    }
   ],
   "source": [
    "df_pairs['name_2'].value_counts()[:10].plot(kind='barh')"
   ]
  },
  {
   "cell_type": "code",
   "execution_count": 8,
   "metadata": {},
   "outputs": [
    {
     "data": {
      "text/plain": [
       "<AxesSubplot:>"
      ]
     },
     "execution_count": 8,
     "metadata": {},
     "output_type": "execute_result"
    },
    {
     "data": {
      "image/png": "[encoded data removed]",
      "text/plain": [
       "<Figure size 640x480 with 1 Axes>"
      ]
     },
     "metadata": {},
     "output_type": "display_data"
    }
   ],
   "source": [
    "df_pairs['categories_1'].value_counts()[:10].plot(kind='barh')"
   ]
  },
  {
   "cell_type": "code",
   "execution_count": 9,
   "metadata": {},
   "outputs": [
    {
     "data": {
      "text/plain": [
       "<AxesSubplot:>"
      ]
     },
     "execution_count": 9,
     "metadata": {},
     "output_type": "execute_result"
    },
    {
     "data": {
      "image/png": "[encoded data removed]",
      "text/plain": [
       "<Figure size 640x480 with 1 Axes>"
      ]
     },
     "metadata": {},
     "output_type": "display_data"
    }
   ],
   "source": [
    "df_pairs['categories_2'].value_counts()[:10].plot(kind='barh')"
   ]
  },
  {
   "cell_type": "code",
   "execution_count": 10,
   "metadata": {},
   "outputs": [
    {
     "data": {
      "text/plain": [
       "url_2           0.853431\n",
       "phone_2         0.794504\n",
       "zip_2           0.611635\n",
       "url_1           0.599580\n",
       "phone_1         0.533566\n",
       "state_2         0.465045\n",
       "address_2       0.460195\n",
       "zip_1           0.378987\n",
       "city_2          0.365200\n",
       "state_1         0.218672\n",
       "address_1       0.178827\n",
       "categories_2    0.131240\n",
       "city_1          0.113972\n",
       "categories_1    0.028146\n",
       "country_1       0.000014\n",
       "country_2       0.000010\n",
       "dtype: float64"
      ]
     },
     "execution_count": 10,
     "metadata": {},
     "output_type": "execute_result"
    }
   ],
   "source": [
    "# proportion of missing values\n",
    "(df_pairs.isna().sum()[df_pairs.isna().sum() != 0] / len(df_pairs)).sort_values(ascending = False)"
   ]
  },
  {
   "attachments": {},
   "cell_type": "markdown",
   "metadata": {},
   "source": [
    "# 0. Pre-Processing\n",
    "\n",
    "In this section I do the following:\n",
    "1. Drop column pairs with high proportion of missing values\n",
    "2. Separate matches into its component sets\n",
    "3. Remove duplicates\n",
    "4. Set indexes for the data sets \n",
    "5. Remove non-numeric characters from phone numbers\n",
    "\n",
    "6. Clean name, address, and categories columns by:\n",
    "    1. Converting to lowercase\n",
    "    2. removing brackets and what is inside them\n",
    "    3. removing accents\n",
    "\n",
    "7. Add new columns for feature engineering\n",
    "    1. Phonetic name - dlkajf;sldkfj"
   ]
  },
  {
   "cell_type": "code",
   "execution_count": 11,
   "metadata": {},
   "outputs": [],
   "source": [
    "# drop column pairs with more than .3 (30%) missing values in both pair elements\n",
    "\n",
    "# url_1 and url_2 > .3\n",
    "df_pairs = df_pairs.drop(columns = ['url_1', 'url_2'])\n",
    "\n",
    "# phone_1 and phone_2 > .3\n",
    "df_pairs = df_pairs.drop(columns = ['phone_1', 'phone_2'])"
   ]
  },
  {
   "cell_type": "code",
   "execution_count": 12,
   "metadata": {},
   "outputs": [],
   "source": [
    "#split the pairs into their component sets\n",
    "df_1 = df_pairs.iloc[:,0:10]\n",
    "df_2 = df_pairs.iloc[:,10:20]\n",
    "\n",
    "#remove duplicates for what will become the index column\n",
    "df_1 = df_1.drop_duplicates(subset=['id_1'])\n",
    "df_2 = df_2.drop_duplicates(subset=['id_2'])\n",
    "\n",
    "# set the index to be the ids of the pair\n",
    "df_pairs = df_pairs.set_index(['id_1', 'id_2'])\n",
    "df_1 = df_1.set_index(['id_1'])\n",
    "df_2 = df_2.set_index(['id_2'])\n",
    "\n",
    "# df_1"
   ]
  },
  {
   "cell_type": "code",
   "execution_count": 13,
   "metadata": {},
   "outputs": [],
   "source": [
    "## no longer in use. left for reference purposes\n",
    "\n",
    "#clean up the phone nubmers by removing all non-numbers (except +)\n",
    "\n",
    "# from recordlinkage.preprocessing import phonenumbers\n",
    "\n",
    "# df_1[\"phone_1\"] = phonenumbers(df_1[\"phone_1\"])\n",
    "# df_2[\"phone_2\"] = phonenumbers(df_2[\"phone_2\"])"
   ]
  },
  {
   "cell_type": "code",
   "execution_count": 14,
   "metadata": {},
   "outputs": [],
   "source": [
    "## TUNING HERE\n",
    "\n",
    "# clean up the name, address, categories columns before converting to phonetic\n",
    "\n",
    "from recordlinkage.preprocessing import clean\n",
    "\n",
    "df_1[\"name_1\"] = clean(df_1[\"name_1\"], lowercase=True, strip_accents='unicode')\n",
    "df_2[\"name_2\"] = clean(df_2[\"name_2\"], lowercase=True, strip_accents='unicode')\n",
    "\n",
    "\n",
    "## test remove brackets\n",
    "df_1[\"address_1\"] = clean(df_1[\"address_1\"], lowercase=True, strip_accents='unicode', remove_brackets=True)\n",
    "df_2[\"address_2\"] = clean(df_2[\"address_2\"], lowercase=True, strip_accents='unicode', remove_brackets=True)\n",
    "\n",
    "\n",
    "## test remove brackets\n",
    "df_1[\"categories_1\"] = clean(df_1[\"categories_1\"], lowercase=True, strip_accents='unicode', remove_brackets=True)\n",
    "df_2[\"categories_2\"] = clean(df_2[\"categories_2\"], lowercase=True, strip_accents='unicode', remove_brackets=True)"
   ]
  },
  {
   "cell_type": "code",
   "execution_count": 15,
   "metadata": {},
   "outputs": [],
   "source": [
    "## HYPER PARAMETER TUNING HERE\n",
    "# 1. Hyper parameter for phonetic()\n",
    "# 2. Which of these new columns provide useful info in model? IE. Correlation matrix\n",
    "\n",
    "from recordlinkage.preprocessing import phonetic\n",
    "\n",
    "df_1[\"phonetic_name_1\"] = phonetic(df_1[\"name_1\"], \"metaphone\")\n",
    "df_2[\"phonetic_name_2\"] = phonetic(df_2[\"name_2\"], \"metaphone\")\n",
    "\n",
    "df_1[\"phonetic_address_1\"] = phonetic(df_1[\"address_1\"], \"metaphone\")\n",
    "df_2[\"phonetic_address_2\"] = phonetic(df_2[\"address_2\"], \"metaphone\")\n",
    "\n",
    "df_1[\"phonetic_address_1\"] = phonetic(df_1[\"address_1\"], \"metaphone\")\n",
    "df_2[\"phonetic_address_2\"] = phonetic(df_2[\"address_2\"], \"metaphone\")"
   ]
  },
  {
   "attachments": {},
   "cell_type": "markdown",
   "metadata": {},
   "source": [
    "1. Indexing"
   ]
  },
  {
   "cell_type": "code",
   "execution_count": 16,
   "metadata": {},
   "outputs": [],
   "source": [
    "# get the index pairs for all of the true matches (needed for training in recordlinkage)\n",
    "\n",
    "df_1_idx = []\n",
    "df_2_idx = []\n",
    "\n",
    "full_idx = []\n",
    "\n",
    "for index, row in df_pairs.iterrows():\n",
    "    full_idx.append(index)\n",
    "    if row['match'] == True:\n",
    "        df_1_idx.append(index[0])\n",
    "        df_2_idx.append(index[1])\n",
    "\n",
    "arrays = [\n",
    "    df_1_idx,\n",
    "    df_2_idx,\n",
    "]\n",
    "\n",
    "tuples = list(zip(*arrays))\n",
    "\n",
    "true_index = pd.MultiIndex.from_tuples(tuples, names=[\"id_1\", \"id_2\"])\n",
    "full_index = pd.MultiIndex.from_tuples(full_idx, names=[\"id_1\", \"id_2\"])"
   ]
  },
  {
   "attachments": {},
   "cell_type": "markdown",
   "metadata": {},
   "source": [
    "# 2. Comparing"
   ]
  },
  {
   "cell_type": "code",
   "execution_count": 17,
   "metadata": {},
   "outputs": [],
   "source": [
    "## FEATURE ENGINEERING\n",
    "\n",
    "compare_cl = recordlinkage.Compare()\n",
    "\n",
    "compare_cl.string(\"name_1\", \"name_2\", method='levenshtein', label='name')\n",
    "compare_cl.string(\"phonetic_name_1\", \"phonetic_name_2\", method='levenshtein', label='phonetic_name')\n",
    "\n",
    "compare_cl.string(\"address_1\", \"address_2\", method='levenshtein', label='address')\n",
    "compare_cl.string(\"phonetic_address_1\", \"phonetic_address_2\", method='levenshtein', label='phonetic_address')\n",
    "\n",
    "compare_cl.string(\"categories_1\", \"categories_2\", method='levenshtein', label='categories')\n",
    "\n",
    "\n",
    "compare_cl.string(\"state_1\", \"state_2\", method='levenshtein', label='state') \n",
    "compare_cl.exact(\"zip_1\", \"zip_2\", label='zip') \n",
    "compare_cl.exact(\"country_1\", \"country_2\", label='country')\n",
    "compare_cl.geo(\"latitude_1\", \"longitude_1\", \"latitude_2\", \"longitude_2\", method='linear', label='distance')\n",
    "\n",
    "features = compare_cl.compute(full_index, df_1, df_2)"
   ]
  },
  {
   "cell_type": "code",
   "execution_count": 18,
   "metadata": {},
   "outputs": [
    {
     "data": {
      "text/html": [
       "<div>\n",
       "<style scoped>\n",
       "    .dataframe tbody tr th:only-of-type {\n",
       "        vertical-align: middle;\n",
       "    }\n",
       "\n",
       "    .dataframe tbody tr th {\n",
       "        vertical-align: top;\n",
       "    }\n",
       "\n",
       "    .dataframe thead th {\n",
       "        text-align: right;\n",
       "    }\n",
       "</style>\n",
       "<table border=\"1\" class=\"dataframe\">\n",
       "  <thead>\n",
       "    <tr style=\"text-align: right;\">\n",
       "      <th></th>\n",
       "      <th></th>\n",
       "      <th>name</th>\n",
       "      <th>phonetic_name</th>\n",
       "      <th>address</th>\n",
       "      <th>phonetic_address</th>\n",
       "      <th>categories</th>\n",
       "      <th>state</th>\n",
       "      <th>zip</th>\n",
       "      <th>country</th>\n",
       "      <th>distance</th>\n",
       "    </tr>\n",
       "    <tr>\n",
       "      <th>id_1</th>\n",
       "      <th>id_2</th>\n",
       "      <th></th>\n",
       "      <th></th>\n",
       "      <th></th>\n",
       "      <th></th>\n",
       "      <th></th>\n",
       "      <th></th>\n",
       "      <th></th>\n",
       "      <th></th>\n",
       "      <th></th>\n",
       "    </tr>\n",
       "  </thead>\n",
       "  <tbody>\n",
       "    <tr>\n",
       "      <th>E_000001272c6c5d</th>\n",
       "      <th>E_da7fa3963561f8</th>\n",
       "      <td>0.750000</td>\n",
       "      <td>0.666667</td>\n",
       "      <td>0.000000</td>\n",
       "      <td>0.000000</td>\n",
       "      <td>1.000000</td>\n",
       "      <td>0.0</td>\n",
       "      <td>0</td>\n",
       "      <td>1</td>\n",
       "      <td>0.477146</td>\n",
       "    </tr>\n",
       "    <tr>\n",
       "      <th>E_000008a8ba4f48</th>\n",
       "      <th>E_3f12df0b045062</th>\n",
       "      <td>1.000000</td>\n",
       "      <td>1.000000</td>\n",
       "      <td>0.142857</td>\n",
       "      <td>0.153846</td>\n",
       "      <td>0.277778</td>\n",
       "      <td>0.0</td>\n",
       "      <td>0</td>\n",
       "      <td>1</td>\n",
       "      <td>0.634265</td>\n",
       "    </tr>\n",
       "    <tr>\n",
       "      <th>E_000023d8f4be44</th>\n",
       "      <th>E_12453effe251db</th>\n",
       "      <td>0.555556</td>\n",
       "      <td>0.700000</td>\n",
       "      <td>0.000000</td>\n",
       "      <td>0.000000</td>\n",
       "      <td>1.000000</td>\n",
       "      <td>0.0</td>\n",
       "      <td>0</td>\n",
       "      <td>1</td>\n",
       "      <td>0.929748</td>\n",
       "    </tr>\n",
       "    <tr>\n",
       "      <th>E_00007dcd2bb53f</th>\n",
       "      <th>E_f131dcb7f07be9</th>\n",
       "      <td>0.312500</td>\n",
       "      <td>0.375000</td>\n",
       "      <td>0.000000</td>\n",
       "      <td>0.000000</td>\n",
       "      <td>1.000000</td>\n",
       "      <td>1.0</td>\n",
       "      <td>0</td>\n",
       "      <td>1</td>\n",
       "      <td>0.992133</td>\n",
       "    </tr>\n",
       "    <tr>\n",
       "      <th>E_0000c362229d93</th>\n",
       "      <th>E_d52c3c4d53831c</th>\n",
       "      <td>0.900000</td>\n",
       "      <td>1.000000</td>\n",
       "      <td>0.263158</td>\n",
       "      <td>0.272727</td>\n",
       "      <td>0.468750</td>\n",
       "      <td>1.0</td>\n",
       "      <td>1</td>\n",
       "      <td>1</td>\n",
       "      <td>0.648781</td>\n",
       "    </tr>\n",
       "    <tr>\n",
       "      <th>...</th>\n",
       "      <th>...</th>\n",
       "      <td>...</td>\n",
       "      <td>...</td>\n",
       "      <td>...</td>\n",
       "      <td>...</td>\n",
       "      <td>...</td>\n",
       "      <td>...</td>\n",
       "      <td>...</td>\n",
       "      <td>...</td>\n",
       "      <td>...</td>\n",
       "    </tr>\n",
       "    <tr>\n",
       "      <th>E_ffff80f94b2fee</th>\n",
       "      <th>E_75feaa1e0321cc</th>\n",
       "      <td>0.375000</td>\n",
       "      <td>0.444444</td>\n",
       "      <td>0.764706</td>\n",
       "      <td>1.000000</td>\n",
       "      <td>0.000000</td>\n",
       "      <td>0.0</td>\n",
       "      <td>0</td>\n",
       "      <td>1</td>\n",
       "      <td>0.954333</td>\n",
       "    </tr>\n",
       "    <tr>\n",
       "      <th>E_ffff8cc1b92ab3</th>\n",
       "      <th>E_ad351ad024c4dd</th>\n",
       "      <td>0.521739</td>\n",
       "      <td>0.555556</td>\n",
       "      <td>0.000000</td>\n",
       "      <td>0.000000</td>\n",
       "      <td>0.173913</td>\n",
       "      <td>0.0</td>\n",
       "      <td>0</td>\n",
       "      <td>1</td>\n",
       "      <td>0.952983</td>\n",
       "    </tr>\n",
       "    <tr>\n",
       "      <th>E_ffff989ae206f8</th>\n",
       "      <th>E_a5bc397a4eaeff</th>\n",
       "      <td>1.000000</td>\n",
       "      <td>1.000000</td>\n",
       "      <td>1.000000</td>\n",
       "      <td>1.000000</td>\n",
       "      <td>1.000000</td>\n",
       "      <td>1.0</td>\n",
       "      <td>1</td>\n",
       "      <td>1</td>\n",
       "      <td>0.568215</td>\n",
       "    </tr>\n",
       "    <tr>\n",
       "      <th>E_ffffca745329ed</th>\n",
       "      <th>E_04988888cfff60</th>\n",
       "      <td>0.000000</td>\n",
       "      <td>0.000000</td>\n",
       "      <td>0.000000</td>\n",
       "      <td>0.000000</td>\n",
       "      <td>1.000000</td>\n",
       "      <td>0.0</td>\n",
       "      <td>0</td>\n",
       "      <td>1</td>\n",
       "      <td>0.982624</td>\n",
       "    </tr>\n",
       "    <tr>\n",
       "      <th>E_ffffe6f4652fbb</th>\n",
       "      <th>E_1ae7caf33377c7</th>\n",
       "      <td>1.000000</td>\n",
       "      <td>1.000000</td>\n",
       "      <td>0.000000</td>\n",
       "      <td>0.000000</td>\n",
       "      <td>1.000000</td>\n",
       "      <td>0.0</td>\n",
       "      <td>0</td>\n",
       "      <td>1</td>\n",
       "      <td>0.219088</td>\n",
       "    </tr>\n",
       "  </tbody>\n",
       "</table>\n",
       "<p>578907 rows × 9 columns</p>\n",
       "</div>"
      ],
      "text/plain": [
       "                                       name  phonetic_name   address  \\\n",
       "id_1             id_2                                                  \n",
       "E_000001272c6c5d E_da7fa3963561f8  0.750000       0.666667  0.000000   \n",
       "E_000008a8ba4f48 E_3f12df0b045062  1.000000       1.000000  0.142857   \n",
       "E_000023d8f4be44 E_12453effe251db  0.555556       0.700000  0.000000   \n",
       "E_00007dcd2bb53f E_f131dcb7f07be9  0.312500       0.375000  0.000000   \n",
       "E_0000c362229d93 E_d52c3c4d53831c  0.900000       1.000000  0.263158   \n",
       "...                                     ...            ...       ...   \n",
       "E_ffff80f94b2fee E_75feaa1e0321cc  0.375000       0.444444  0.764706   \n",
       "E_ffff8cc1b92ab3 E_ad351ad024c4dd  0.521739       0.555556  0.000000   \n",
       "E_ffff989ae206f8 E_a5bc397a4eaeff  1.000000       1.000000  1.000000   \n",
       "E_ffffca745329ed E_04988888cfff60  0.000000       0.000000  0.000000   \n",
       "E_ffffe6f4652fbb E_1ae7caf33377c7  1.000000       1.000000  0.000000   \n",
       "\n",
       "                                   phonetic_address  categories  state  zip  \\\n",
       "id_1             id_2                                                         \n",
       "E_000001272c6c5d E_da7fa3963561f8          0.000000    1.000000    0.0    0   \n",
       "E_000008a8ba4f48 E_3f12df0b045062          0.153846    0.277778    0.0    0   \n",
       "E_000023d8f4be44 E_12453effe251db          0.000000    1.000000    0.0    0   \n",
       "E_00007dcd2bb53f E_f131dcb7f07be9          0.000000    1.000000    1.0    0   \n",
       "E_0000c362229d93 E_d52c3c4d53831c          0.272727    0.468750    1.0    1   \n",
       "...                                             ...         ...    ...  ...   \n",
       "E_ffff80f94b2fee E_75feaa1e0321cc          1.000000    0.000000    0.0    0   \n",
       "E_ffff8cc1b92ab3 E_ad351ad024c4dd          0.000000    0.173913    0.0    0   \n",
       "E_ffff989ae206f8 E_a5bc397a4eaeff          1.000000    1.000000    1.0    1   \n",
       "E_ffffca745329ed E_04988888cfff60          0.000000    1.000000    0.0    0   \n",
       "E_ffffe6f4652fbb E_1ae7caf33377c7          0.000000    1.000000    0.0    0   \n",
       "\n",
       "                                   country  distance  \n",
       "id_1             id_2                                 \n",
       "E_000001272c6c5d E_da7fa3963561f8        1  0.477146  \n",
       "E_000008a8ba4f48 E_3f12df0b045062        1  0.634265  \n",
       "E_000023d8f4be44 E_12453effe251db        1  0.929748  \n",
       "E_00007dcd2bb53f E_f131dcb7f07be9        1  0.992133  \n",
       "E_0000c362229d93 E_d52c3c4d53831c        1  0.648781  \n",
       "...                                    ...       ...  \n",
       "E_ffff80f94b2fee E_75feaa1e0321cc        1  0.954333  \n",
       "E_ffff8cc1b92ab3 E_ad351ad024c4dd        1  0.952983  \n",
       "E_ffff989ae206f8 E_a5bc397a4eaeff        1  0.568215  \n",
       "E_ffffca745329ed E_04988888cfff60        1  0.982624  \n",
       "E_ffffe6f4652fbb E_1ae7caf33377c7        1  0.219088  \n",
       "\n",
       "[578907 rows x 9 columns]"
      ]
     },
     "execution_count": 18,
     "metadata": {},
     "output_type": "execute_result"
    }
   ],
   "source": [
    "features"
   ]
  },
  {
   "cell_type": "code",
   "execution_count": 19,
   "metadata": {},
   "outputs": [],
   "source": [
    "# split the data for training and testing\n",
    "\n",
    "df_train, df_test = train_test_split(features, test_size = 0.2, random_state = 40)"
   ]
  },
  {
   "cell_type": "code",
   "execution_count": 20,
   "metadata": {},
   "outputs": [],
   "source": [
    "# extract the true pairs for each data set (this is our y or response)\n",
    "\n",
    "train_matches_index = df_train.index.intersection(true_index)\n",
    "test_matches_index = df_test.index.intersection(true_index)"
   ]
  },
  {
   "cell_type": "code",
   "execution_count": 21,
   "metadata": {},
   "outputs": [],
   "source": [
    "# for score tracking of the different models\n",
    "models = []\n",
    "t_pos = []\n",
    "t_neg = []\n",
    "f_pos = []\n",
    "f_neg = []\n",
    "precision = []\n",
    "recall = []\n",
    "accuracy = []\n",
    "specificty = []\n",
    "fscore = []\n"
   ]
  },
  {
   "attachments": {},
   "cell_type": "markdown",
   "metadata": {},
   "source": [
    "## Linear Regression"
   ]
  },
  {
   "cell_type": "code",
   "execution_count": 22,
   "metadata": {},
   "outputs": [
    {
     "name": "stdout",
     "output_type": "stream",
     "text": [
      "Intercept:  1.7228882620678456\n",
      "Coefficients:  [ 0.38341905  0.54716381  0.73805213 -0.72169312  0.70123667 -0.61998809\n",
      "  0.2059989  -1.2412771  -0.43184437]\n"
     ]
    }
   ],
   "source": [
    "## HYPER PARAMETER TUNING\n",
    "\n",
    "logreg = recordlinkage.LogisticRegressionClassifier(penalty='l2', solver='newton-cg', max_iter=10000)\n",
    "\n",
    "logreg.fit(df_train, train_matches_index)\n",
    "print (\"Intercept: \", logreg.intercept)\n",
    "print (\"Coefficients: \", logreg.coefficients)"
   ]
  },
  {
   "cell_type": "code",
   "execution_count": 23,
   "metadata": {},
   "outputs": [
    {
     "data": {
      "text/plain": [
       "109693"
      ]
     },
     "execution_count": 23,
     "metadata": {},
     "output_type": "execute_result"
    }
   ],
   "source": [
    "results_logreg = logreg.predict(df_test)\n",
    "len(results_logreg)"
   ]
  },
  {
   "cell_type": "code",
   "execution_count": 24,
   "metadata": {},
   "outputs": [],
   "source": [
    "#record different metrics for the model\n",
    "\n",
    "models.append(\"Logistic Regression 80/20\")\n",
    "t_pos.append(recordlinkage.true_positives(test_matches_index, results_logreg))\n",
    "t_neg.append(recordlinkage.true_negatives(test_matches_index, results_logreg, len(df_test)))\n",
    "f_pos.append(recordlinkage.false_positives(test_matches_index, results_logreg))\n",
    "f_neg.append(recordlinkage.false_negatives(test_matches_index, results_logreg))\n",
    "precision.append(recordlinkage.precision(test_matches_index, results_logreg))\n",
    "recall.append(recordlinkage.recall(test_matches_index, results_logreg))\n",
    "accuracy.append(recordlinkage.accuracy(test_matches_index, results_logreg, len(df_test)))\n",
    "specificty.append(recordlinkage.specificity(test_matches_index, results_logreg, len(df_test)))\n",
    "fscore.append(recordlinkage.fscore(test_matches_index, results_logreg))"
   ]
  },
  {
   "attachments": {},
   "cell_type": "markdown",
   "metadata": {},
   "source": [
    "## Naive Bayes Classifier"
   ]
  },
  {
   "cell_type": "code",
   "execution_count": 25,
   "metadata": {},
   "outputs": [
    {
     "data": {
      "text/plain": [
       "{'name': {0.0: 0.7160208883914992, 1.0: 1.1948429379105145},\n",
       " 'phonetic_name': {0.0: 0.7159026296218189, 1.0: 1.1821356479700984},\n",
       " 'address': {0.0: 0.9880837826244082, 1.0: 1.025704134204252},\n",
       " 'phonetic_address': {0.0: 1.010544032907515, 1.0: 0.9751680917574198},\n",
       " 'categories': {0.0: 0.6855942511915672, 1.0: 1.352619867443149},\n",
       " 'state': {0.0: 1.1502527191766116, 1.0: 0.8106653868279875},\n",
       " 'zip': {0.0: 1.000829391989841, 1.0: 0.9976090360138047},\n",
       " 'country': {0.0: 4.841307924083898, 1.0: 0.996617063615396},\n",
       " 'distance': {0.0: 1.8580264902412835, 1.0: 0.9202462877060511}}"
      ]
     },
     "execution_count": 25,
     "metadata": {},
     "output_type": "execute_result"
    }
   ],
   "source": [
    "## HYPER PARAMTER TUNING\n",
    "#.5 worse than .3\n",
    "#.1 worse than .3\n",
    "#.15 better than .3\n",
    "\n",
    "nb = recordlinkage.NaiveBayesClassifier(binarize=.3, use_col_names=True)\n",
    "nb.fit(df_train, train_matches_index)\n",
    "\n",
    "nb.weights"
   ]
  },
  {
   "cell_type": "code",
   "execution_count": 26,
   "metadata": {},
   "outputs": [
    {
     "data": {
      "text/plain": [
       "101058"
      ]
     },
     "execution_count": 26,
     "metadata": {},
     "output_type": "execute_result"
    }
   ],
   "source": [
    "results_nb = nb.predict(df_test)\n",
    "len(results_nb)"
   ]
  },
  {
   "cell_type": "code",
   "execution_count": 27,
   "metadata": {},
   "outputs": [],
   "source": [
    "models.append(\"Naive Bayes 80/20\")\n",
    "t_pos.append(recordlinkage.true_positives(test_matches_index, results_nb))\n",
    "t_neg.append(recordlinkage.true_negatives(test_matches_index, results_nb, len(df_test)))\n",
    "f_pos.append(recordlinkage.false_positives(test_matches_index, results_nb))\n",
    "f_neg.append(recordlinkage.false_negatives(test_matches_index, results_nb))\n",
    "precision.append(recordlinkage.precision(test_matches_index, results_nb))\n",
    "recall.append(recordlinkage.recall(test_matches_index, results_nb))\n",
    "accuracy.append(recordlinkage.accuracy(test_matches_index, results_nb, len(df_test)))\n",
    "specificty.append(recordlinkage.specificity(test_matches_index, results_nb, len(df_test)))\n",
    "fscore.append(recordlinkage.fscore(test_matches_index, results_nb))"
   ]
  },
  {
   "attachments": {},
   "cell_type": "markdown",
   "metadata": {},
   "source": [
    "## Support Vector Machine"
   ]
  },
  {
   "cell_type": "code",
   "execution_count": 28,
   "metadata": {},
   "outputs": [],
   "source": [
    "## HYPER PARAMETER TUNING\n",
    "# 1. squared_hinge better than hinge\n",
    "# 2. blanced is not good for call_weight\n",
    "\n",
    "# train the SVM classifier\n",
    "\n",
    "svm = recordlinkage.SVMClassifier(loss='squared_hinge', class_weight=None, max_iter=10000)\n",
    "svm.fit(df_train, train_matches_index)"
   ]
  },
  {
   "cell_type": "code",
   "execution_count": 29,
   "metadata": {},
   "outputs": [
    {
     "data": {
      "text/plain": [
       "111340"
      ]
     },
     "execution_count": 29,
     "metadata": {},
     "output_type": "execute_result"
    }
   ],
   "source": [
    "# Prediciton\n",
    "\n",
    "result_svm = svm.predict(df_test)\n",
    "len(result_svm)"
   ]
  },
  {
   "cell_type": "code",
   "execution_count": 30,
   "metadata": {},
   "outputs": [],
   "source": [
    "models.append(\"SVM 80/20\")\n",
    "t_pos.append(recordlinkage.true_positives(test_matches_index, result_svm))\n",
    "t_neg.append(recordlinkage.true_negatives(test_matches_index, result_svm, len(df_test)))\n",
    "f_pos.append(recordlinkage.false_positives(test_matches_index, result_svm))\n",
    "f_neg.append(recordlinkage.false_negatives(test_matches_index, result_svm))\n",
    "precision.append(recordlinkage.precision(test_matches_index, result_svm))\n",
    "recall.append(recordlinkage.recall(test_matches_index, result_svm))\n",
    "accuracy.append(recordlinkage.accuracy(test_matches_index, result_svm, len(df_test)))\n",
    "specificty.append(recordlinkage.specificity(test_matches_index, result_svm, len(df_test)))\n",
    "fscore.append(recordlinkage.fscore(test_matches_index, result_svm))"
   ]
  },
  {
   "attachments": {},
   "cell_type": "markdown",
   "metadata": {},
   "source": [
    "# Comparing - Round 2\n",
    "\n",
    "Adjusting train test splits to be more representative of the real world task (i.e, small training data set)"
   ]
  },
  {
   "cell_type": "code",
   "execution_count": 31,
   "metadata": {},
   "outputs": [],
   "source": [
    "# split the data for training and testing\n",
    "\n",
    "df_train2, df_test2 = train_test_split(features, test_size = 0.95, random_state = 40)"
   ]
  },
  {
   "cell_type": "code",
   "execution_count": 32,
   "metadata": {},
   "outputs": [],
   "source": [
    "# extract the true pairs for each data set (this is our y or response)\n",
    "\n",
    "train_matches_index2 = df_train2.index.intersection(true_index)\n",
    "test_matches_index2 = df_test2.index.intersection(true_index)"
   ]
  },
  {
   "cell_type": "markdown",
   "metadata": {},
   "source": [
    "## Linear Regression"
   ]
  },
  {
   "cell_type": "code",
   "execution_count": 33,
   "metadata": {},
   "outputs": [
    {
     "name": "stdout",
     "output_type": "stream",
     "text": [
      "Intercept:  2.2662875517260153\n",
      "Coefficients:  [ 0.37073955  0.53595403  0.60825586 -0.63557576  0.71652891 -0.60168574\n",
      "  0.20689155 -1.78235946 -0.40983783]\n"
     ]
    }
   ],
   "source": [
    "## HYPER PARAMETER TUNING\n",
    "\n",
    "logreg2 = recordlinkage.LogisticRegressionClassifier(penalty='l2', solver='newton-cg', max_iter=10000)\n",
    "\n",
    "logreg2.fit(df_train2, train_matches_index2)\n",
    "print (\"Intercept: \", logreg2.intercept)\n",
    "print (\"Coefficients: \", logreg2.coefficients)"
   ]
  },
  {
   "cell_type": "code",
   "execution_count": 34,
   "metadata": {},
   "outputs": [
    {
     "data": {
      "text/plain": [
       "522740"
      ]
     },
     "execution_count": 34,
     "metadata": {},
     "output_type": "execute_result"
    }
   ],
   "source": [
    "results_logreg2 = logreg2.predict(df_test2)\n",
    "len(results_logreg2)"
   ]
  },
  {
   "cell_type": "code",
   "execution_count": 35,
   "metadata": {},
   "outputs": [
    {
     "data": {
      "text/plain": [
       "array([[368958,   9882],\n",
       "       [153782,  17340]])"
      ]
     },
     "execution_count": 35,
     "metadata": {},
     "output_type": "execute_result"
    }
   ],
   "source": [
    "#make sure the parameters for this are correct\n",
    "\n",
    "recordlinkage.confusion_matrix(test_matches_index2, results_logreg2, len(df_test2))"
   ]
  },
  {
   "cell_type": "code",
   "execution_count": 36,
   "metadata": {},
   "outputs": [],
   "source": [
    "models.append(\"Logistic Regression 5/95\")\n",
    "t_pos.append(recordlinkage.true_positives(test_matches_index2, results_logreg2))\n",
    "t_neg.append(recordlinkage.true_negatives(test_matches_index2, results_logreg2, len(df_test2)))\n",
    "f_pos.append(recordlinkage.false_positives(test_matches_index2, results_logreg2))\n",
    "f_neg.append(recordlinkage.false_negatives(test_matches_index2, results_logreg2))\n",
    "precision.append(recordlinkage.precision(test_matches_index2, results_logreg2))\n",
    "recall.append(recordlinkage.recall(test_matches_index2, results_logreg2))\n",
    "accuracy.append(recordlinkage.accuracy(test_matches_index2, results_logreg2, len(df_test2)))\n",
    "specificty.append(recordlinkage.specificity(test_matches_index2, results_logreg2, len(df_test2)))\n",
    "fscore.append(recordlinkage.fscore(test_matches_index2, results_logreg2))"
   ]
  },
  {
   "cell_type": "markdown",
   "metadata": {},
   "source": [
    "## Naive Bayes Classifier"
   ]
  },
  {
   "cell_type": "code",
   "execution_count": 37,
   "metadata": {},
   "outputs": [
    {
     "data": {
      "text/plain": [
       "{'name': {0.0: 0.7336278884014422, 1.0: 1.1813459759580416},\n",
       " 'phonetic_name': {0.0: 0.7359752394077721, 1.0: 1.1704958739948856},\n",
       " 'address': {0.0: 0.9904442108031484, 1.0: 1.02068068966038},\n",
       " 'phonetic_address': {0.0: 1.0132523537861935, 1.0: 0.9688525287927281},\n",
       " 'categories': {0.0: 0.6838502123511442, 1.0: 1.3612387681947504},\n",
       " 'state': {0.0: 1.1516968299870112, 1.0: 0.8087019131294761},\n",
       " 'zip': {0.0: 1.0042304060209124, 1.0: 0.9877715115192306},\n",
       " 'country': {0.0: 13.83537741827463, 1.0: 0.9957194958465403},\n",
       " 'distance': {0.0: 1.7912656591630447, 1.0: 0.9255392471887293}}"
      ]
     },
     "execution_count": 37,
     "metadata": {},
     "output_type": "execute_result"
    }
   ],
   "source": [
    "## HYPER PARAMTER TUNING\n",
    "#.5 worse than .3\n",
    "#.1 worse than .3\n",
    "#.15 better than .3\n",
    "\n",
    "nb2 = recordlinkage.NaiveBayesClassifier(binarize=.3, use_col_names=True)\n",
    "nb2.fit(df_train2, train_matches_index2)\n",
    "\n",
    "nb2.weights"
   ]
  },
  {
   "cell_type": "code",
   "execution_count": 38,
   "metadata": {},
   "outputs": [
    {
     "data": {
      "text/plain": [
       "479637"
      ]
     },
     "execution_count": 38,
     "metadata": {},
     "output_type": "execute_result"
    }
   ],
   "source": [
    "results_nb2 = nb2.predict(df_test2)\n",
    "len(results_nb2)"
   ]
  },
  {
   "cell_type": "code",
   "execution_count": 39,
   "metadata": {},
   "outputs": [
    {
     "data": {
      "text/plain": [
       "array([[345926,  32914],\n",
       "       [133711,  37411]])"
      ]
     },
     "execution_count": 39,
     "metadata": {},
     "output_type": "execute_result"
    }
   ],
   "source": [
    "recordlinkage.confusion_matrix(test_matches_index2, results_nb2, len(df_test2))"
   ]
  },
  {
   "cell_type": "code",
   "execution_count": 40,
   "metadata": {},
   "outputs": [],
   "source": [
    "models.append(\"Naive Bayes 5/95\")\n",
    "t_pos.append(recordlinkage.true_positives(test_matches_index2, results_nb2))\n",
    "t_neg.append(recordlinkage.true_negatives(test_matches_index2, results_nb2, len(df_test2)))\n",
    "f_pos.append(recordlinkage.false_positives(test_matches_index2, results_nb2))\n",
    "f_neg.append(recordlinkage.false_negatives(test_matches_index2, results_nb2))\n",
    "precision.append(recordlinkage.precision(test_matches_index2, results_nb2))\n",
    "recall.append(recordlinkage.recall(test_matches_index2, results_nb2))\n",
    "accuracy.append(recordlinkage.accuracy(test_matches_index2, results_nb2, len(df_test2)))\n",
    "specificty.append(recordlinkage.specificity(test_matches_index2, results_nb2, len(df_test2)))\n",
    "fscore.append(recordlinkage.fscore(test_matches_index2, results_nb2))"
   ]
  },
  {
   "attachments": {},
   "cell_type": "markdown",
   "metadata": {},
   "source": [
    "## Support Vector Machine"
   ]
  },
  {
   "cell_type": "code",
   "execution_count": 41,
   "metadata": {},
   "outputs": [],
   "source": [
    "## HYPER PARAMETER TUNING\n",
    "# 1. squared_hinge better than hinge\n",
    "# 2. blanced is not good for call_weight\n",
    "\n",
    "# train the SVM classifier\n",
    "\n",
    "svm2 = recordlinkage.SVMClassifier(loss='squared_hinge', class_weight=None, max_iter=10000)\n",
    "svm2.fit(df_train2, train_matches_index2)"
   ]
  },
  {
   "cell_type": "code",
   "execution_count": 42,
   "metadata": {},
   "outputs": [
    {
     "data": {
      "text/plain": [
       "530542"
      ]
     },
     "execution_count": 42,
     "metadata": {},
     "output_type": "execute_result"
    }
   ],
   "source": [
    "# Prediciton\n",
    "\n",
    "result_svm2 = svm2.predict(df_test2)\n",
    "len(result_svm2)"
   ]
  },
  {
   "cell_type": "code",
   "execution_count": 43,
   "metadata": {},
   "outputs": [],
   "source": [
    "models.append(\"SVM 5/95\")\n",
    "t_pos.append(recordlinkage.true_positives(test_matches_index2, result_svm2))\n",
    "t_neg.append(recordlinkage.true_negatives(test_matches_index2, result_svm2, len(df_test2)))\n",
    "f_pos.append(recordlinkage.false_positives(test_matches_index2, result_svm2))\n",
    "f_neg.append(recordlinkage.false_negatives(test_matches_index2, result_svm2))\n",
    "precision.append(recordlinkage.precision(test_matches_index2, result_svm2))\n",
    "recall.append(recordlinkage.recall(test_matches_index2, result_svm2))\n",
    "accuracy.append(recordlinkage.accuracy(test_matches_index2, result_svm2, len(df_test2)))\n",
    "specificty.append(recordlinkage.specificity(test_matches_index2, result_svm2, len(df_test2)))\n",
    "fscore.append(recordlinkage.fscore(test_matches_index2, result_svm2))"
   ]
  },
  {
   "attachments": {},
   "cell_type": "markdown",
   "metadata": {},
   "source": [
    "# Results"
   ]
  },
  {
   "attachments": {},
   "cell_type": "markdown",
   "metadata": {},
   "source": [
    "INTRO HERE"
   ]
  },
  {
   "cell_type": "code",
   "execution_count": 44,
   "metadata": {},
   "outputs": [],
   "source": [
    "metrics = {'Model':models, \n",
    "           'True Positives':t_pos, \n",
    "           'True Negatives':t_pos, \n",
    "           'False Positves':f_pos, \n",
    "           'False Negatives':f_neg,\n",
    "           'Precision':precision,\n",
    "           'Recall':recall,\n",
    "           'Accuracy':accuracy,\n",
    "           'Specificty':specificty,\n",
    "           'fscore':fscore}\n",
    "\n",
    "df_met = pd.DataFrame(metrics)"
   ]
  },
  {
   "cell_type": "code",
   "execution_count": 45,
   "metadata": {},
   "outputs": [
    {
     "data": {
      "text/html": [
       "<div>\n",
       "<style scoped>\n",
       "    .dataframe tbody tr th:only-of-type {\n",
       "        vertical-align: middle;\n",
       "    }\n",
       "\n",
       "    .dataframe tbody tr th {\n",
       "        vertical-align: top;\n",
       "    }\n",
       "\n",
       "    .dataframe thead th {\n",
       "        text-align: right;\n",
       "    }\n",
       "</style>\n",
       "<table border=\"1\" class=\"dataframe\">\n",
       "  <thead>\n",
       "    <tr style=\"text-align: right;\">\n",
       "      <th></th>\n",
       "      <th>Model</th>\n",
       "      <th>True Positives</th>\n",
       "      <th>True Negatives</th>\n",
       "      <th>False Positves</th>\n",
       "      <th>False Negatives</th>\n",
       "      <th>Precision</th>\n",
       "      <th>Recall</th>\n",
       "      <th>Accuracy</th>\n",
       "      <th>Specificty</th>\n",
       "      <th>fscore</th>\n",
       "    </tr>\n",
       "  </thead>\n",
       "  <tbody>\n",
       "    <tr>\n",
       "      <th>0</th>\n",
       "      <td>Logistic Regression 80/20</td>\n",
       "      <td>77740</td>\n",
       "      <td>77740</td>\n",
       "      <td>31953</td>\n",
       "      <td>2256</td>\n",
       "      <td>0.708705</td>\n",
       "      <td>0.971799</td>\n",
       "      <td>0.704540</td>\n",
       "      <td>0.107109</td>\n",
       "      <td>0.819657</td>\n",
       "    </tr>\n",
       "    <tr>\n",
       "      <th>1</th>\n",
       "      <td>Naive Bayes 80/20</td>\n",
       "      <td>73040</td>\n",
       "      <td>73040</td>\n",
       "      <td>28018</td>\n",
       "      <td>6956</td>\n",
       "      <td>0.722753</td>\n",
       "      <td>0.913046</td>\n",
       "      <td>0.697932</td>\n",
       "      <td>0.217068</td>\n",
       "      <td>0.806831</td>\n",
       "    </tr>\n",
       "    <tr>\n",
       "      <th>2</th>\n",
       "      <td>SVM 80/20</td>\n",
       "      <td>78333</td>\n",
       "      <td>78333</td>\n",
       "      <td>33007</td>\n",
       "      <td>1663</td>\n",
       "      <td>0.703548</td>\n",
       "      <td>0.979211</td>\n",
       "      <td>0.700558</td>\n",
       "      <td>0.077656</td>\n",
       "      <td>0.818800</td>\n",
       "    </tr>\n",
       "    <tr>\n",
       "      <th>3</th>\n",
       "      <td>Logistic Regression 5/95</td>\n",
       "      <td>368958</td>\n",
       "      <td>368958</td>\n",
       "      <td>153782</td>\n",
       "      <td>9882</td>\n",
       "      <td>0.705816</td>\n",
       "      <td>0.973915</td>\n",
       "      <td>0.702409</td>\n",
       "      <td>0.101331</td>\n",
       "      <td>0.818470</td>\n",
       "    </tr>\n",
       "    <tr>\n",
       "      <th>4</th>\n",
       "      <td>Naive Bayes 5/95</td>\n",
       "      <td>345926</td>\n",
       "      <td>345926</td>\n",
       "      <td>133711</td>\n",
       "      <td>32914</td>\n",
       "      <td>0.721225</td>\n",
       "      <td>0.913119</td>\n",
       "      <td>0.697025</td>\n",
       "      <td>0.218622</td>\n",
       "      <td>0.805906</td>\n",
       "    </tr>\n",
       "    <tr>\n",
       "      <th>5</th>\n",
       "      <td>SVM 5/95</td>\n",
       "      <td>371719</td>\n",
       "      <td>371719</td>\n",
       "      <td>158823</td>\n",
       "      <td>7121</td>\n",
       "      <td>0.700640</td>\n",
       "      <td>0.981203</td>\n",
       "      <td>0.698263</td>\n",
       "      <td>0.071873</td>\n",
       "      <td>0.817520</td>\n",
       "    </tr>\n",
       "  </tbody>\n",
       "</table>\n",
       "</div>"
      ],
      "text/plain": [
       "                       Model  True Positives  True Negatives  False Positves  \\\n",
       "0  Logistic Regression 80/20           77740           77740           31953   \n",
       "1          Naive Bayes 80/20           73040           73040           28018   \n",
       "2                  SVM 80/20           78333           78333           33007   \n",
       "3   Logistic Regression 5/95          368958          368958          153782   \n",
       "4           Naive Bayes 5/95          345926          345926          133711   \n",
       "5                   SVM 5/95          371719          371719          158823   \n",
       "\n",
       "   False Negatives  Precision    Recall  Accuracy  Specificty    fscore  \n",
       "0             2256   0.708705  0.971799  0.704540    0.107109  0.819657  \n",
       "1             6956   0.722753  0.913046  0.697932    0.217068  0.806831  \n",
       "2             1663   0.703548  0.979211  0.700558    0.077656  0.818800  \n",
       "3             9882   0.705816  0.973915  0.702409    0.101331  0.818470  \n",
       "4            32914   0.721225  0.913119  0.697025    0.218622  0.805906  \n",
       "5             7121   0.700640  0.981203  0.698263    0.071873  0.817520  "
      ]
     },
     "execution_count": 45,
     "metadata": {},
     "output_type": "execute_result"
    }
   ],
   "source": [
    "df_met.head(10)"
   ]
  },
  {
   "attachments": {},
   "cell_type": "markdown",
   "metadata": {},
   "source": [
    "Above we can see each model and its associated metrics. The 80/20 and 5/95 represent the train/test split that was used in the two different iterations. The first thing that stands out to me is that all of the accuracy and f-scores for all 6 models are very comparaable. This suggests that this problem may be a relatively simple classification task and thus all the types of models fit the data relatively well.\n",
    "\n",
    "However, what was not the same for all of the models was the Precision, Recall, and Specificity. \n",
    "\n",
    "A quick refresher on how these metrics are calculated:\n",
    "\n",
    "Precison = $\\frac{tp}{tp+fp}$\n",
    "\n",
    "We can see that the Naive Bayes models have slightly better precision than the other models. This means that it made fewer false postivies (matches that weren't real matches) than the other models. This is valuable to know in this business context.\n",
    "\n",
    "Recall = $\\frac{tp}{tp+fn}$\n",
    "\n",
    "We can see that the SVM models, closely followed by the Logistic Regression models, have much higher righer recall than Naive Bayes. This means that they missed fewer real matches than the Naive Bayes models. This is also something to consider in this business context. \n",
    "\n",
    "Specificity = $\\frac{tn}{tn+fp}$\n",
    "\n",
    "We can see that the Naive Bayes models have higher Specifiticity than both the Logisitic Regression and SVM models. This means that the Naive Bayes models were better identify \"not matches\". More information for our business context. "
   ]
  },
  {
   "cell_type": "code",
   "execution_count": 46,
   "metadata": {},
   "outputs": [
    {
     "data": {
      "image/png": "[encoded data removed]",
      "text/plain": [
       "<Figure size 1300x500 with 5 Axes>"
      ]
     },
     "metadata": {},
     "output_type": "display_data"
    }
   ],
   "source": [
    "# logreg_heat = sn.heatmap(data=recordlinkage.confusion_matrix(test_matches_index, results_logreg, len(df_test)), annot=True, fmt='g')\n",
    "# logreg_heat.set(xlabel='Predicted Value', ylabel='True Value')\n",
    "\n",
    "f,(ax1,ax2,ax3, axcb) = plt.subplots(1,4, \n",
    "            gridspec_kw={'width_ratios':[1,1,1,0.08]})\n",
    "ax1.get_shared_y_axes().join(ax2,ax3)\n",
    "g1 = sns.heatmap(data=recordlinkage.confusion_matrix(test_matches_index, results_logreg, len(df_test)), annot=True, fmt='g', cbar=False,ax=ax1)\n",
    "g1.set_ylabel('True Value')\n",
    "g1.set_xlabel('Predicted Value')\n",
    "g1.set_title('Logistic Regression 80/20')\n",
    "g2 = sns.heatmap(data=recordlinkage.confusion_matrix(test_matches_index, results_nb, len(df_test)), annot=True, fmt='g', cbar=False,ax=ax2)\n",
    "g2.set_ylabel('')\n",
    "g2.set_xlabel('Predicted Value')\n",
    "g2.set_title('Naive Bayes 80/20')\n",
    "g2.set_yticks([])\n",
    "g3 = sns.heatmap(data=recordlinkage.confusion_matrix(test_matches_index, result_svm, len(df_test)), annot=True, fmt='g', cbar=axcb,ax=ax3)\n",
    "g3.set_ylabel('')\n",
    "g3.set_xlabel('Predicted Value')\n",
    "g3.set_title('SVM 80/20')\n",
    "g3.set_yticks([])\n",
    "\n",
    "\n",
    "# may be needed to rotate the ticklabels correctly:\n",
    "for ax in [g1,g2,g3]:\n",
    "    tl = ax.get_xticklabels()\n",
    "    ax.set_xticklabels(tl, rotation=90)\n",
    "    tly = ax.get_yticklabels()\n",
    "    ax.set_yticklabels(tly, rotation=0)\n",
    "    ttl = ax.get_title()\n",
    "    ax.set_title(ttl, rotation=0)\n",
    "f.set_figheight(5)\n",
    "f.set_figwidth(13)\n",
    "plt.show()"
   ]
  },
  {
   "attachments": {},
   "cell_type": "markdown",
   "metadata": {},
   "source": [
    "Another way to view this is by the correlation matrix for each model. The set above is for the 80/20 Split models. In these heat maps, the (0,0) is *True Postives*, (0,1) is *False Positvies*, (1,1) is *True Negatives*, and (1,0) is *False Negatives*."
   ]
  },
  {
   "cell_type": "code",
   "execution_count": 47,
   "metadata": {},
   "outputs": [
    {
     "data": {
      "image/png": "[encoded data removed]",
      "text/plain": [
       "<Figure size 1300x500 with 5 Axes>"
      ]
     },
     "metadata": {},
     "output_type": "display_data"
    }
   ],
   "source": [
    "f,(ax1,ax2,ax3, axcb) = plt.subplots(1,4, \n",
    "            gridspec_kw={'width_ratios':[1,1,1,0.08]})\n",
    "ax1.get_shared_y_axes().join(ax2,ax3)\n",
    "g1 = sns.heatmap(data=recordlinkage.confusion_matrix(test_matches_index2, results_logreg2, len(df_test2)), annot=True, fmt='g', cbar=False,ax=ax1)\n",
    "g1.set_ylabel('True Value')\n",
    "g1.set_xlabel('Predicted Value')\n",
    "g1.set_title('Logistic Regression 5/95')\n",
    "g2 = sns.heatmap(data=recordlinkage.confusion_matrix(test_matches_index2, results_nb2, len(df_test2)), annot=True, fmt='g', cbar=False,ax=ax2)\n",
    "g2.set_ylabel('')\n",
    "g2.set_xlabel('Predicted Value')\n",
    "g2.set_title('Naive Bayes 5/95')\n",
    "g2.set_yticks([])\n",
    "g3 = sns.heatmap(data=recordlinkage.confusion_matrix(test_matches_index2, result_svm2, len(df_test2)), annot=True, fmt='g', cbar=axcb,ax=ax3)\n",
    "g3.set_ylabel('')\n",
    "g3.set_xlabel('Predicted Value')\n",
    "g3.set_title('SVM 5/95')\n",
    "g3.set_yticks([])\n",
    "\n",
    "f.set_figheight(5)\n",
    "f.set_figwidth(13)\n",
    "plt.show()"
   ]
  },
  {
   "attachments": {},
   "cell_type": "markdown",
   "metadata": {},
   "source": [
    "# Conclusion"
   ]
  },
  {
   "attachments": {},
   "cell_type": "markdown",
   "metadata": {},
   "source": [
    "Ultimatley, I decided to use the Naive Bayes model. For my particular task, false positives are more harmful than false neagatives due to the business context. A false postivie match means that the two respective locations will not be as thoroughly audited. The bottom line is that false companies will cause this business more money than false negatives. The Naive Bayes model is the most suited for this task as the metrics showed it was the least likely to predict a false positive. \n"
   ]
  },
  {
   "attachments": {},
   "cell_type": "markdown",
   "metadata": {},
   "source": [
    "Despite this conclusion, there is still room for improvements. In future iterations of this task, there are a few updates I would like to make to fine tune an even better result. I would like to implemenet gridsearch to automate parameter tuning as opposed to the hand tuning I have done up to this point. However this may force me to step away from the recordlinkage library which is a requirement for this business task."
   ]
  }
 ],
 "metadata": {
  "kernelspec": {
   "display_name": "base",
   "language": "python",
   "name": "python3"
  },
  "language_info": {
   "codemirror_mode": {
    "name": "ipython",
    "version": 3
   },
   "file_extension": ".py",
   "mimetype": "text/x-python",
   "name": "python",
   "nbconvert_exporter": "python",
   "pygments_lexer": "ipython3",
   "version": "3.9.12"
  },
  "orig_nbformat": 4
 },
 "nbformat": 4,
 "nbformat_minor": 2
}
